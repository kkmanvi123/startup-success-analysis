{
 "cells": [
  {
   "attachments": {},
   "cell_type": "markdown",
   "id": "195f374c",
   "metadata": {},
   "source": [
    "# Final Report - Understanding Startup Success "
   ]
  },
  {
   "cell_type": "markdown",
   "id": "6a3a8ed7",
   "metadata": {},
   "source": [
    "## Executive Summary\n",
    "In this project we analyzed data from a [Kaggle Startup Success Dataset](https://www.kaggle.com/datasets/manishkc06/startup-success-prediction) to understand what determines the success of a startup using data on the success/failures of over 900 startups. We leverage patterns in industry trends, investment insights, and individual company information to analyze a startup's success. **We employed a variety of [classification-based machine learning models](#Results) to breakdown the most influential factors that go into predicting the success of startup companies.** We've included multiple graphs visualizing our ML results alongside as well. *It's important to note that this project is not intended to be a sole deciding factor for investors or venture capitalists alongside founders themselves but rather a tool to support or challenge their investment or startup decisions.*\n"
   ]
  },
  {
   "cell_type": "markdown",
   "id": "86323350",
   "metadata": {},
   "source": [
    "## Introduction\n",
    "Startups are typically launched by entrepreneurs with the aim of validating a scalable business model. In their early stage of development, they often require external support such as financial backing from investors or industry connections.\n",
    "\n",
    "From an investor perspective, accurately predicting startup success, beyond mere intuition and rudimentary factors, to determine where to invest their money, proves to be an arduous and costly task. We began our project by building models that predict the success or failure of a startup, where **success** is *defined by attaining significant funding through an Initial-Public-Offering (IPO) or Merger & Acquisition* and **failure** is *defined by closing*. \n",
    "\n",
    "**We later shift our focus due to the fundamental flaws in a prediction model of this sort as [explained here](##Project+Pivot). We pivoted our focus towards comprehending patterns in startup success, with the goal of gaining deeper insights. In lieu of traditional approaches, we leveraged advanced machine learning classification models to effectively analyze and elucidate the key factors that contribute to success. This valuable information can empower investors to make more informed investment decisions, while also enabling founders to make better choices for their own success.**"
   ]
  },
  {
   "cell_type": "markdown",
   "id": "a3e69c24",
   "metadata": {},
   "source": [
    "## Data Description\n",
    "### Import Kaggle Dataset\n",
    "We used a [Kaggle Dataset of Startup Success](https://www.kaggle.com/datasets/manishkc06/startup-success-prediction) to observe a range of features related to each startup including location, industry, funding information. Below are some relevant columns:\n",
    "\n",
    "- `age_first_funding_year` (quantitative): age of startup in years when it received its first funding round\n",
    "- `age_last_funding_year` (quantitative): age of startup in years when it received its last funding round\n",
    "- `relationships` (quantitative): number of known relationships the startup has with individuals, organizations, or other startups\n",
    "- `funding_rounds` (quantitative): total number of funding rounds the startup has received\n",
    "- `funding_total_usd` (quantitative): total amount of funding the startup has received in US dollars\n",
    "- `milestones` (quantitative): total number of milestones achieved by the startup\n",
    "- `age_first_milestone_year` (quantitative): age of the startup in years when it achieved its first milestone\n",
    "- `age_last_milestone_year` (quantitative): age of the startup in years when it achieved its last milestone\n",
    "- `state` (categorical): state or region that startup is located\n",
    "- `industry_type` (categorical): industry/sector startup belongs\n",
    "- `has_VC` (categorical): if startup has received venture capital funding\n",
    "- `has_angel` (categorical): if startup has received angel investor funding\n",
    "- `has_roundA` (categorical): if startup has received round A funding\n",
    "- `has_roundB` (categorical): if startup has received round B funding\n",
    "- `has_roundC` (categorical): if startup has received round C funding\n",
    "- `has_roundD` (categorical): if startup has received round D funding\n",
    "- `avg_participants` (quantitative): average number of participants in each funding round\n",
    "- `is_top500` (categorical): if startup is ranked among the top 500 by website traffic\n",
    "- `status`(acquired/closed) (categorical): indicating whether the startup has been acquired by another organization (succeeded) or closed"
   ]
  },
  {
   "cell_type": "code",
   "execution_count": 1,
   "id": "fd1132b9",
   "metadata": {},
   "outputs": [],
   "source": [
    "import pandas as pd\n",
    "\n",
    "# Create dataframe with Kaggle dataset\n",
    "data = pd.read_csv(\"startup data.csv\")\n",
    "df = pd.DataFrame(data)"
   ]
  },
  {
   "cell_type": "markdown",
   "id": "a6a51086",
   "metadata": {},
   "source": [
    "### Data Cleaning and Feature Selection\n",
    "We chose to drop a number of columns from our dataset in efforts to clean the data and conduct feature selection to ensure only relevant information is considered in our machine learning models. Below are explanations for each feature dropped:\n",
    "- `Unnamed: 6`,`Unnamed: 0`: Contained data that was uninterpretable and not detailed by the provider of the dataset\n",
    "- `id`, `name`, `object_id`: Identifiers of each startup that were not useful in making predictions or analyzing startup success\n",
    "- `state_code.1`, `state_code`: We included the city, so we want to avoid repetition of the same data. City is a subset of state.\n",
    "- `first_funding_at`, `last_funding_at`: We already included funding timeframe so this would also be a repetition of information.\n",
    "- `zip_code`: This numeric value may be misinterpreted by the model and we already have included city as a location identifier.\n",
    "- `founded_at`, `closed_at`: This was not very important to the prediction because these years have a lot of variance and don't speak to the outcome. \n",
    "- `age_last_milestone_year`, `age_first_milestone_year`: We already include the number of milestones so this would again be a repetition of information.\n",
    "\n",
    "These explanations are logic and intuition-based, and this step is very important to avoid confusing our model with many similar features or irrelevant ones."
   ]
  },
  {
   "cell_type": "code",
   "execution_count": 2,
   "id": "3a2ae6e5",
   "metadata": {
    "scrolled": true
   },
   "outputs": [
    {
     "data": {
      "text/html": [
       "<div>\n",
       "<style scoped>\n",
       "    .dataframe tbody tr th:only-of-type {\n",
       "        vertical-align: middle;\n",
       "    }\n",
       "\n",
       "    .dataframe tbody tr th {\n",
       "        vertical-align: top;\n",
       "    }\n",
       "\n",
       "    .dataframe thead th {\n",
       "        text-align: right;\n",
       "    }\n",
       "</style>\n",
       "<table border=\"1\" class=\"dataframe\">\n",
       "  <thead>\n",
       "    <tr style=\"text-align: right;\">\n",
       "      <th></th>\n",
       "      <th>latitude</th>\n",
       "      <th>longitude</th>\n",
       "      <th>city</th>\n",
       "      <th>labels</th>\n",
       "      <th>relationships</th>\n",
       "      <th>funding_rounds</th>\n",
       "      <th>funding_total_usd</th>\n",
       "      <th>milestones</th>\n",
       "      <th>is_CA</th>\n",
       "      <th>is_NY</th>\n",
       "      <th>...</th>\n",
       "      <th>has_VC</th>\n",
       "      <th>has_angel</th>\n",
       "      <th>has_roundA</th>\n",
       "      <th>has_roundB</th>\n",
       "      <th>has_roundC</th>\n",
       "      <th>has_roundD</th>\n",
       "      <th>avg_participants</th>\n",
       "      <th>is_top500</th>\n",
       "      <th>status</th>\n",
       "      <th>funding timeframe (years)</th>\n",
       "    </tr>\n",
       "  </thead>\n",
       "  <tbody>\n",
       "    <tr>\n",
       "      <th>0</th>\n",
       "      <td>42.358880</td>\n",
       "      <td>-71.056820</td>\n",
       "      <td>San Diego</td>\n",
       "      <td>1</td>\n",
       "      <td>3</td>\n",
       "      <td>3</td>\n",
       "      <td>375000</td>\n",
       "      <td>3</td>\n",
       "      <td>1</td>\n",
       "      <td>0</td>\n",
       "      <td>...</td>\n",
       "      <td>0</td>\n",
       "      <td>1</td>\n",
       "      <td>0</td>\n",
       "      <td>0</td>\n",
       "      <td>0</td>\n",
       "      <td>0</td>\n",
       "      <td>1.0000</td>\n",
       "      <td>0</td>\n",
       "      <td>acquired</td>\n",
       "      <td>0.7534</td>\n",
       "    </tr>\n",
       "    <tr>\n",
       "      <th>1</th>\n",
       "      <td>37.238916</td>\n",
       "      <td>-121.973718</td>\n",
       "      <td>Los Gatos</td>\n",
       "      <td>1</td>\n",
       "      <td>9</td>\n",
       "      <td>4</td>\n",
       "      <td>40100000</td>\n",
       "      <td>1</td>\n",
       "      <td>1</td>\n",
       "      <td>0</td>\n",
       "      <td>...</td>\n",
       "      <td>1</td>\n",
       "      <td>0</td>\n",
       "      <td>0</td>\n",
       "      <td>1</td>\n",
       "      <td>1</td>\n",
       "      <td>1</td>\n",
       "      <td>4.7500</td>\n",
       "      <td>1</td>\n",
       "      <td>acquired</td>\n",
       "      <td>4.8713</td>\n",
       "    </tr>\n",
       "    <tr>\n",
       "      <th>2</th>\n",
       "      <td>32.901049</td>\n",
       "      <td>-117.192656</td>\n",
       "      <td>San Diego</td>\n",
       "      <td>1</td>\n",
       "      <td>5</td>\n",
       "      <td>1</td>\n",
       "      <td>2600000</td>\n",
       "      <td>2</td>\n",
       "      <td>1</td>\n",
       "      <td>0</td>\n",
       "      <td>...</td>\n",
       "      <td>0</td>\n",
       "      <td>0</td>\n",
       "      <td>1</td>\n",
       "      <td>0</td>\n",
       "      <td>0</td>\n",
       "      <td>0</td>\n",
       "      <td>4.0000</td>\n",
       "      <td>1</td>\n",
       "      <td>acquired</td>\n",
       "      <td>0.0000</td>\n",
       "    </tr>\n",
       "    <tr>\n",
       "      <th>3</th>\n",
       "      <td>37.320309</td>\n",
       "      <td>-122.050040</td>\n",
       "      <td>Cupertino</td>\n",
       "      <td>1</td>\n",
       "      <td>5</td>\n",
       "      <td>3</td>\n",
       "      <td>40000000</td>\n",
       "      <td>1</td>\n",
       "      <td>1</td>\n",
       "      <td>0</td>\n",
       "      <td>...</td>\n",
       "      <td>0</td>\n",
       "      <td>0</td>\n",
       "      <td>0</td>\n",
       "      <td>1</td>\n",
       "      <td>1</td>\n",
       "      <td>1</td>\n",
       "      <td>3.3333</td>\n",
       "      <td>1</td>\n",
       "      <td>acquired</td>\n",
       "      <td>2.1836</td>\n",
       "    </tr>\n",
       "    <tr>\n",
       "      <th>4</th>\n",
       "      <td>37.779281</td>\n",
       "      <td>-122.419236</td>\n",
       "      <td>San Francisco</td>\n",
       "      <td>0</td>\n",
       "      <td>2</td>\n",
       "      <td>2</td>\n",
       "      <td>1300000</td>\n",
       "      <td>1</td>\n",
       "      <td>1</td>\n",
       "      <td>0</td>\n",
       "      <td>...</td>\n",
       "      <td>1</td>\n",
       "      <td>1</td>\n",
       "      <td>0</td>\n",
       "      <td>0</td>\n",
       "      <td>0</td>\n",
       "      <td>0</td>\n",
       "      <td>1.0000</td>\n",
       "      <td>1</td>\n",
       "      <td>closed</td>\n",
       "      <td>1.6685</td>\n",
       "    </tr>\n",
       "    <tr>\n",
       "      <th>...</th>\n",
       "      <td>...</td>\n",
       "      <td>...</td>\n",
       "      <td>...</td>\n",
       "      <td>...</td>\n",
       "      <td>...</td>\n",
       "      <td>...</td>\n",
       "      <td>...</td>\n",
       "      <td>...</td>\n",
       "      <td>...</td>\n",
       "      <td>...</td>\n",
       "      <td>...</td>\n",
       "      <td>...</td>\n",
       "      <td>...</td>\n",
       "      <td>...</td>\n",
       "      <td>...</td>\n",
       "      <td>...</td>\n",
       "      <td>...</td>\n",
       "      <td>...</td>\n",
       "      <td>...</td>\n",
       "      <td>...</td>\n",
       "      <td>...</td>\n",
       "    </tr>\n",
       "    <tr>\n",
       "      <th>918</th>\n",
       "      <td>37.740594</td>\n",
       "      <td>-122.376471</td>\n",
       "      <td>San Francisco</td>\n",
       "      <td>1</td>\n",
       "      <td>9</td>\n",
       "      <td>1</td>\n",
       "      <td>1100000</td>\n",
       "      <td>2</td>\n",
       "      <td>1</td>\n",
       "      <td>0</td>\n",
       "      <td>...</td>\n",
       "      <td>0</td>\n",
       "      <td>0</td>\n",
       "      <td>1</td>\n",
       "      <td>0</td>\n",
       "      <td>0</td>\n",
       "      <td>0</td>\n",
       "      <td>6.0000</td>\n",
       "      <td>1</td>\n",
       "      <td>acquired</td>\n",
       "      <td>0.0000</td>\n",
       "    </tr>\n",
       "    <tr>\n",
       "      <th>919</th>\n",
       "      <td>42.504817</td>\n",
       "      <td>-71.195611</td>\n",
       "      <td>Burlington</td>\n",
       "      <td>0</td>\n",
       "      <td>1</td>\n",
       "      <td>3</td>\n",
       "      <td>52000000</td>\n",
       "      <td>1</td>\n",
       "      <td>0</td>\n",
       "      <td>0</td>\n",
       "      <td>...</td>\n",
       "      <td>1</td>\n",
       "      <td>0</td>\n",
       "      <td>0</td>\n",
       "      <td>1</td>\n",
       "      <td>0</td>\n",
       "      <td>0</td>\n",
       "      <td>2.6667</td>\n",
       "      <td>1</td>\n",
       "      <td>closed</td>\n",
       "      <td>1.9753</td>\n",
       "    </tr>\n",
       "    <tr>\n",
       "      <th>920</th>\n",
       "      <td>37.408261</td>\n",
       "      <td>-122.015920</td>\n",
       "      <td>Sunnyvale</td>\n",
       "      <td>0</td>\n",
       "      <td>5</td>\n",
       "      <td>1</td>\n",
       "      <td>44000000</td>\n",
       "      <td>1</td>\n",
       "      <td>1</td>\n",
       "      <td>0</td>\n",
       "      <td>...</td>\n",
       "      <td>0</td>\n",
       "      <td>0</td>\n",
       "      <td>0</td>\n",
       "      <td>0</td>\n",
       "      <td>0</td>\n",
       "      <td>1</td>\n",
       "      <td>8.0000</td>\n",
       "      <td>1</td>\n",
       "      <td>closed</td>\n",
       "      <td>0.0000</td>\n",
       "    </tr>\n",
       "    <tr>\n",
       "      <th>921</th>\n",
       "      <td>37.556732</td>\n",
       "      <td>-122.288378</td>\n",
       "      <td>San Francisco</td>\n",
       "      <td>1</td>\n",
       "      <td>12</td>\n",
       "      <td>2</td>\n",
       "      <td>15500000</td>\n",
       "      <td>2</td>\n",
       "      <td>1</td>\n",
       "      <td>0</td>\n",
       "      <td>...</td>\n",
       "      <td>0</td>\n",
       "      <td>0</td>\n",
       "      <td>1</td>\n",
       "      <td>1</td>\n",
       "      <td>0</td>\n",
       "      <td>0</td>\n",
       "      <td>1.0000</td>\n",
       "      <td>1</td>\n",
       "      <td>acquired</td>\n",
       "      <td>2.0740</td>\n",
       "    </tr>\n",
       "    <tr>\n",
       "      <th>922</th>\n",
       "      <td>37.386778</td>\n",
       "      <td>-121.966277</td>\n",
       "      <td>Santa Clara</td>\n",
       "      <td>1</td>\n",
       "      <td>4</td>\n",
       "      <td>1</td>\n",
       "      <td>20000000</td>\n",
       "      <td>1</td>\n",
       "      <td>1</td>\n",
       "      <td>0</td>\n",
       "      <td>...</td>\n",
       "      <td>0</td>\n",
       "      <td>0</td>\n",
       "      <td>0</td>\n",
       "      <td>1</td>\n",
       "      <td>0</td>\n",
       "      <td>0</td>\n",
       "      <td>3.0000</td>\n",
       "      <td>1</td>\n",
       "      <td>acquired</td>\n",
       "      <td>0.0000</td>\n",
       "    </tr>\n",
       "  </tbody>\n",
       "</table>\n",
       "<p>922 rows × 34 columns</p>\n",
       "</div>"
      ],
      "text/plain": [
       "      latitude   longitude           city  labels  relationships  \\\n",
       "0    42.358880  -71.056820      San Diego       1              3   \n",
       "1    37.238916 -121.973718      Los Gatos       1              9   \n",
       "2    32.901049 -117.192656      San Diego       1              5   \n",
       "3    37.320309 -122.050040      Cupertino       1              5   \n",
       "4    37.779281 -122.419236  San Francisco       0              2   \n",
       "..         ...         ...            ...     ...            ...   \n",
       "918  37.740594 -122.376471  San Francisco       1              9   \n",
       "919  42.504817  -71.195611     Burlington       0              1   \n",
       "920  37.408261 -122.015920      Sunnyvale       0              5   \n",
       "921  37.556732 -122.288378  San Francisco       1             12   \n",
       "922  37.386778 -121.966277    Santa Clara       1              4   \n",
       "\n",
       "     funding_rounds  funding_total_usd  milestones  is_CA  is_NY  ...  has_VC  \\\n",
       "0                 3             375000           3      1      0  ...       0   \n",
       "1                 4           40100000           1      1      0  ...       1   \n",
       "2                 1            2600000           2      1      0  ...       0   \n",
       "3                 3           40000000           1      1      0  ...       0   \n",
       "4                 2            1300000           1      1      0  ...       1   \n",
       "..              ...                ...         ...    ...    ...  ...     ...   \n",
       "918               1            1100000           2      1      0  ...       0   \n",
       "919               3           52000000           1      0      0  ...       1   \n",
       "920               1           44000000           1      1      0  ...       0   \n",
       "921               2           15500000           2      1      0  ...       0   \n",
       "922               1           20000000           1      1      0  ...       0   \n",
       "\n",
       "     has_angel  has_roundA has_roundB  has_roundC  has_roundD  \\\n",
       "0            1           0          0           0           0   \n",
       "1            0           0          1           1           1   \n",
       "2            0           1          0           0           0   \n",
       "3            0           0          1           1           1   \n",
       "4            1           0          0           0           0   \n",
       "..         ...         ...        ...         ...         ...   \n",
       "918          0           1          0           0           0   \n",
       "919          0           0          1           0           0   \n",
       "920          0           0          0           0           1   \n",
       "921          0           1          1           0           0   \n",
       "922          0           0          1           0           0   \n",
       "\n",
       "     avg_participants  is_top500    status  funding timeframe (years)  \n",
       "0              1.0000          0  acquired                     0.7534  \n",
       "1              4.7500          1  acquired                     4.8713  \n",
       "2              4.0000          1  acquired                     0.0000  \n",
       "3              3.3333          1  acquired                     2.1836  \n",
       "4              1.0000          1    closed                     1.6685  \n",
       "..                ...        ...       ...                        ...  \n",
       "918            6.0000          1  acquired                     0.0000  \n",
       "919            2.6667          1    closed                     1.9753  \n",
       "920            8.0000          1    closed                     0.0000  \n",
       "921            1.0000          1  acquired                     2.0740  \n",
       "922            3.0000          1  acquired                     0.0000  \n",
       "\n",
       "[922 rows x 34 columns]"
      ]
     },
     "execution_count": 2,
     "metadata": {},
     "output_type": "execute_result"
    }
   ],
   "source": [
    "# Figure out which columns have null values\n",
    "# print([i for i in df.columns if df[i].isnull().any()])\n",
    "\n",
    "# Create a funding time frame column (derived feature)\n",
    "df['funding timeframe (years)'] = df['age_last_funding_year'] - df['age_first_funding_year']\n",
    "\n",
    "# Drop invaluable or null (NaN) columns\n",
    "df.drop(['Unnamed: 6', 'Unnamed: 0', 'id', 'name', 'object_id', 'first_funding_at',\n",
    "         'zip_code', 'founded_at', 'closed_at', 'age_last_milestone_year',\n",
    "         'age_first_milestone_year', 'state_code.1',  'last_funding_at', \n",
    "         'age_last_funding_year', 'age_first_funding_year', 'state_code'], axis = 1, inplace = True)\n",
    "\n",
    "# Drop outliers that severely misrepresent and skew the data\n",
    "df = df.drop(df[df['funding_total_usd'] == 5700000000].index)\n",
    "\n",
    "df"
   ]
  },
  {
   "cell_type": "markdown",
   "id": "e8aa42ef",
   "metadata": {},
   "source": [
    "### Data Preprocessing \n",
    "Applying **scale normalization** to the `funding_total_usd` column as it has numbers of large variance and significantly different form the format/scale of the other columns - this change is necessary to avoid confusing the model."
   ]
  },
  {
   "cell_type": "code",
   "execution_count": 3,
   "id": "12beaf36",
   "metadata": {},
   "outputs": [],
   "source": [
    "# scale normalization\n",
    "df['funding_total_usd'] = df['funding_total_usd']/df['funding_total_usd'].std()"
   ]
  },
  {
   "cell_type": "markdown",
   "id": "cd4e2d6a",
   "metadata": {},
   "source": [
    "## Method\n",
    "1. ML Classification Prediction Models - K-NN Prediction Model, Decision Tree, Random Forest, Logistic Regression\n",
    "2. Explanation of Prediction Models\n",
    "3. Project Pivot - Explanation of Shifting to using ML to Explain Startup Success\n",
    "4. ML Classification Models (No Cross Validation) - Decision Tree, Random Forest\n",
    "5. Explanation of Startup Success (Feature Importance)"
   ]
  },
  {
   "cell_type": "code",
   "execution_count": 4,
   "id": "a2756f5f",
   "metadata": {},
   "outputs": [],
   "source": [
    "# build x feature lists and y features for machine learning models\n",
    "x_feat_list = [feat for feat in df.columns if feat not in ('labels', 'longitude', 'latitude') \n",
    "               and df.dtypes[feat] != object]\n",
    "\n",
    "\n",
    "y_feat = 'status'\n",
    "\n",
    "# create x and y variables\n",
    "x = df.loc[:, x_feat_list].values\n",
    "y = df.loc[:, y_feat].values"
   ]
  },
  {
   "cell_type": "markdown",
   "id": "ab1723d9",
   "metadata": {},
   "source": [
    "## Results\n",
    "### ML Classification Prediction Models\n",
    "Since our initial goal is to predict whether a startup will close or be acquired, we knew that we were working with a classification problem as opposed to regression. Our plan is to implement a variety of classifiers to make these predictions and evaluate the accuracies.\n",
    "\n",
    "#### K-NN Classifier\n",
    "**The KNN classifier utilizes cross-validated data to predict the fate of a startup, whether it will be acquired or closed, by analyzing the 20 most similar startups and their outcomes. After careful optimization of the k-value, we discovered that using 20 as the k-value resulted in the highest level of accuracy.**"
   ]
  },
  {
   "cell_type": "code",
   "execution_count": 5,
   "id": "66fb4823",
   "metadata": {},
   "outputs": [],
   "source": [
    "from sklearn.neighbors import KNeighborsClassifier\n",
    "from sklearn.model_selection import StratifiedKFold\n",
    "from sklearn.metrics import confusion_matrix, ConfusionMatrixDisplay\n",
    "from sklearn.metrics import accuracy_score\n",
    "import matplotlib.pyplot as plt\n",
    "import numpy as np\n",
    "\n",
    "from copy import copy\n",
    "\n",
    "k = 20\n",
    "\n",
    "# initialize a knn_classifier\n",
    "knn_classifier = KNeighborsClassifier(n_neighbors=k)\n",
    "\n",
    "# construction of kfold object\n",
    "skfold = StratifiedKFold(n_splits=10)\n",
    "\n",
    "# allocate an empty array to store predictions in\n",
    "y_pred = copy(y)\n",
    "\n",
    "for train_idx, test_idx in skfold.split(x, y):\n",
    "    # build arrays which correspond to x, y train /test\n",
    "    x_test = x[test_idx, :]\n",
    "    x_train = x[train_idx, :]\n",
    "    y_train = y[train_idx]\n",
    "    \n",
    "    # fit happens \"inplace\", we modify the internal state of knn_classifier to remember all the training samples\n",
    "    knn_classifier.fit(x_train, y_train)\n",
    "\n",
    "    # estimate status\n",
    "    y_pred[test_idx] = knn_classifier.predict(x_test)"
   ]
  },
  {
   "cell_type": "code",
   "execution_count": 6,
   "id": "e0ece620",
   "metadata": {},
   "outputs": [
    {
     "data": {
      "text/plain": [
       "Text(0.5, 1.0, 'Accuracy of KNN Classifier with Different Values for K')"
      ]
     },
     "execution_count": 6,
     "metadata": {},
     "output_type": "execute_result"
    },
    {
     "data": {
      "image/png": "[encoded data removed]",
      "text/plain": [
       "<Figure size 432x288 with 1 Axes>"
      ]
     },
     "metadata": {
      "needs_background": "light"
     },
     "output_type": "display_data"
    }
   ],
   "source": [
    "# find optimal k-value\n",
    "def get_acc_score(k):\n",
    "    ''' get accuracy score for a \"k\"\n",
    "    \n",
    "    Args: \n",
    "        k (int): k to be passed in the knn classifier\n",
    "        \n",
    "    Returns:\n",
    "        acc (float): the accuracy score\n",
    "    '''\n",
    "    # initialize a knn_classifier\n",
    "    knn_classifier = KNeighborsClassifier(n_neighbors=k)\n",
    "\n",
    "    # construction of kfold object\n",
    "    skfold = StratifiedKFold(n_splits=10)\n",
    "\n",
    "    # allocate an empty array to store predictions in\n",
    "    y_pred = copy(y)\n",
    "\n",
    "    for train_idx, test_idx in skfold.split(x, y):\n",
    "        # build arrays which correspond to x, y train /test\n",
    "        x_test = x[test_idx, :]\n",
    "        x_train = x[train_idx, :]\n",
    "        y_train = y[train_idx]\n",
    "\n",
    "        # fit happens \"inplace\", we modify the internal state of knn_classifier to remember all the training samples\n",
    "        knn_classifier.fit(x_train, y_train)\n",
    "\n",
    "        # estimate each instance\n",
    "        y_pred[test_idx] = knn_classifier.predict(x_test)\n",
    "\n",
    "    acc = accuracy_score(y, y_pred)\n",
    "    \n",
    "    return acc\n",
    "\n",
    "# plot the accuracy scores\n",
    "x_vals = list(range(1,26))\n",
    "y_vals = list()\n",
    "for k in range(25):\n",
    "    y_vals.append(get_acc_score(k+1))\n",
    "    \n",
    "plt.plot(x_vals,y_vals)\n",
    "plt.xlabel('Value for k (# nearest neighbors)')\n",
    "plt.ylabel('Accuracy score')\n",
    "plt.title('Accuracy of KNN Classifier with Different Values for K')"
   ]
  },
  {
   "cell_type": "code",
   "execution_count": 7,
   "id": "efbb366c",
   "metadata": {
    "scrolled": true
   },
   "outputs": [
    {
     "data": {
      "image/png": "[encoded data removed]",
      "text/plain": [
       "<Figure size 432x288 with 2 Axes>"
      ]
     },
     "metadata": {
      "needs_background": "light"
     },
     "output_type": "display_data"
    }
   ],
   "source": [
    "# build and plot confusion matrix\n",
    "conf_mat = confusion_matrix(y_true=y, y_pred=y_pred)\n",
    "conf_mat_disp = ConfusionMatrixDisplay(conf_mat, display_labels=np.unique(y))\n",
    "\n",
    "#sns.set(font_scale=1.5)\n",
    "conf_mat_disp.plot()\n",
    "plt.suptitle('K=20 NN Classifier')\n",
    "#plt.gcf().set_size_inches(6, 6)\n",
    "plt.grid(False)"
   ]
  },
  {
   "cell_type": "code",
   "execution_count": 8,
   "id": "3117271f",
   "metadata": {},
   "outputs": [
    {
     "name": "stdout",
     "output_type": "stream",
     "text": [
      "KNN Accuracy Score: 0.7744034707158352\n"
     ]
    }
   ],
   "source": [
    "from sklearn.metrics import accuracy_score\n",
    "knn_acc = accuracy_score(y, y_pred)\n",
    "print(f'KNN Accuracy Score: {knn_acc}')"
   ]
  },
  {
   "cell_type": "markdown",
   "id": "8cbf2bd2",
   "metadata": {},
   "source": [
    "**Explanation:** For this KNN classification model a function was used to find the optimal K-value of 20. Evidently from the confusion matrix and an accuracy score of around 76% this model seems to a fairly inaccurate binary classifier (a random-guesser would theoretically yield an accuracy of 50% for comparison)."
   ]
  },
  {
   "cell_type": "markdown",
   "id": "1556d8fe",
   "metadata": {},
   "source": [
    "#### Decision Tree\n",
    "**With the aid of a decision tree classifier, a startup's features are compared to accurately classify it as either acquired or closed, based on the values of each feature. Our classifier was configured to a depth of 3, thus sorting various features into acquired or closed over three levels. The displayed features evidently possess the greatest influence in the variance of the data.**"
   ]
  },
  {
   "cell_type": "code",
   "execution_count": 9,
   "id": "efa91abe",
   "metadata": {},
   "outputs": [
    {
     "data": {
      "text/plain": [
       "Text(0.5, 1.0, 'Decision Tree Predicting Success (Max Depth = 3)')"
      ]
     },
     "execution_count": 9,
     "metadata": {},
     "output_type": "execute_result"
    },
    {
     "data": {
      "image/png": "[encoded data removed]",
      "text/plain": [
       "<Figure size 1440x720 with 1 Axes>"
      ]
     },
     "metadata": {},
     "output_type": "display_data"
    }
   ],
   "source": [
    "import seaborn as sns\n",
    "from sklearn import tree\n",
    "import matplotlib.pyplot as plt\n",
    "\n",
    "n_splits = 10\n",
    "max_depth = 3\n",
    "\n",
    "# create folds for cross validation\n",
    "kfold = StratifiedKFold(n_splits = n_splits)\n",
    "\n",
    "# build decision tree classifier\n",
    "dec_tree_clf = tree.DecisionTreeClassifier(max_depth=max_depth)\n",
    "\n",
    "# create a copy of the same size to store predictions\n",
    "y_pred = np.empty_like(y)\n",
    "\n",
    "for train_idx, test_idx in kfold.split(x, y):\n",
    "    # build arrays which correspond to x, y train /test\n",
    "    x_train = x[train_idx, :]\n",
    "    x_test = x[test_idx, :]\n",
    "    y_train = y[train_idx]\n",
    "    \n",
    "    # fit data\n",
    "    dec_tree_clf.fit(x_train, y_train)\n",
    "\n",
    "    # estimate status\n",
    "    y_pred[test_idx] = dec_tree_clf.predict(x_test)\n",
    "\n",
    "# plotting tree\n",
    "sns.set()\n",
    "plt.gcf().set_size_inches(20, 10)\n",
    "tree.plot_tree(dec_tree_clf, \n",
    "               feature_names=x_feat_list,\n",
    "               class_names=dec_tree_clf.classes_);\n",
    "\n",
    "plt.title('Decision Tree Predicting Success (Max Depth = 3)')"
   ]
  },
  {
   "cell_type": "code",
   "execution_count": 10,
   "id": "8e4a1691",
   "metadata": {},
   "outputs": [
    {
     "name": "stdout",
     "output_type": "stream",
     "text": [
      "Decision Tree Accuracy Score: 0.7396963123644251\n"
     ]
    }
   ],
   "source": [
    "dt_acc = accuracy_score(y, y_pred)\n",
    "print(f'Decision Tree Accuracy Score: {dt_acc}')"
   ]
  },
  {
   "cell_type": "markdown",
   "id": "9b2fe0d0",
   "metadata": {},
   "source": [
    "**Explanation:** This decision tree model for binary classification had an accuracy score of 74%, indicating poor performance in predicting outcomes. The model's weak performance could be due to either insufficient data or an oversimplified decision tree that resulted in underfitting. The tree model offers a valuable advantage in that it allows us to observe the importance of features and how this importance varies based on the conditions and paths at each node."
   ]
  },
  {
   "cell_type": "markdown",
   "id": "8dbdafcf",
   "metadata": {},
   "source": [
    "#### Random Forest\n",
    "**We opted to implement a random forest classifier on our dataset as well because they are less prone to overfitting and tend to be stronger predictors. While keeping the decision trees' max depth at 3, we plotted a confusion matrix to provide a thorough analysis of our model's accuracy.**"
   ]
  },
  {
   "cell_type": "code",
   "execution_count": 11,
   "id": "fd7ac799",
   "metadata": {},
   "outputs": [],
   "source": [
    "from sklearn.model_selection import StratifiedKFold\n",
    "import seaborn as sns\n",
    "import matplotlib.pyplot as plt\n",
    "from sklearn.ensemble import RandomForestClassifier\n",
    "import numpy as np\n",
    "\n",
    "# build random forest classifier\n",
    "n_splits = 10\n",
    "max_depth = 3\n",
    "\n",
    "y_feat_list = ['acquired', 'closed']\n",
    "\n",
    "# create folds for cross validation\n",
    "kfold = StratifiedKFold(n_splits = n_splits)\n",
    "\n",
    "# build random forest\n",
    "rf_clf = RandomForestClassifier(max_depth=max_depth)\n",
    "\n",
    "y_pred = np.empty_like(y)\n",
    "\n",
    "for train_idx, test_idx in kfold.split(x, y):\n",
    "    # build arrays which correspond to x, y train /test\n",
    "    x_train = x[train_idx, :]\n",
    "    x_test = x[test_idx, :]\n",
    "    y_train = y[train_idx]\n",
    "    \n",
    "    # fit data\n",
    "    rf_clf.fit(x_train, y_train)\n",
    "\n",
    "    # estimate tumor diagnosis\n",
    "    y_pred[test_idx] = rf_clf.predict(x_test)"
   ]
  },
  {
   "cell_type": "code",
   "execution_count": 12,
   "id": "f30e7d30",
   "metadata": {},
   "outputs": [
    {
     "data": {
      "image/png": "[encoded data removed]",
      "text/plain": [
       "<Figure size 576x576 with 2 Axes>"
      ]
     },
     "metadata": {},
     "output_type": "display_data"
    }
   ],
   "source": [
    "# plot confusion matrix\n",
    "conf_mat = confusion_matrix(y_true=y, y_pred=y_pred)\n",
    "conf_mat_disp = ConfusionMatrixDisplay(conf_mat, display_labels=y_feat_list)\n",
    "conf_mat_disp.plot()\n",
    "plt.gcf().set_size_inches(8, 8)\n",
    "plt.title('Random Forest Confusion Matrix')\n",
    "plt.grid(False)"
   ]
  },
  {
   "cell_type": "code",
   "execution_count": 13,
   "id": "7aa68e84",
   "metadata": {},
   "outputs": [
    {
     "data": {
      "image/png": "[encoded data removed]",
      "text/plain": [
       "<Figure size 360x180 with 1 Axes>"
      ]
     },
     "metadata": {},
     "output_type": "display_data"
    }
   ],
   "source": [
    "from sklearn.model_selection import KFold\n",
    "from sklearn.ensemble import RandomForestRegressor\n",
    "from sklearn.model_selection import train_test_split\n",
    "\n",
    "def plot_feat_import(feat_list, feat_import, sort=True, limit=None):\n",
    "    \"\"\" plots feature importances in a horizontal bar chart\n",
    "    \n",
    "    Args:\n",
    "        feat_list (list): str names of features\n",
    "        feat_import (np.array): feature importances (mean gini reduce)\n",
    "        sort (bool): if True, sorts features in decreasing importance\n",
    "            from top to bottom of plot\n",
    "        limit (int): if passed, limits the number of features shown\n",
    "            to this value    \n",
    "    \"\"\"\n",
    "    \n",
    "    if sort:\n",
    "        # sort features in decreasing importance\n",
    "        idx = np.argsort(feat_import).astype(int)\n",
    "        feat_list = [feat_list[_idx] for _idx in idx]\n",
    "        feat_import = feat_import[idx] \n",
    "        \n",
    "    if limit is not None:\n",
    "        # limit to the first limit feature\n",
    "        feat_list = feat_list[-limit:]\n",
    "        feat_import = feat_import[-limit:]\n",
    "\n",
    "\n",
    "    # plot and label feature importance\n",
    "    plt.barh(feat_list, feat_import)\n",
    "    plt.gcf().set_size_inches(5, len(feat_list) / 2)\n",
    "    plt.xlabel('Feature importance\\n(Mean decrease in MSE across all Decision Trees)')\n",
    "\n",
    "\n",
    "plot_feat_import(x_feat_list, rf_clf.feature_importances_, limit=5)"
   ]
  },
  {
   "cell_type": "code",
   "execution_count": 14,
   "id": "154a9481",
   "metadata": {},
   "outputs": [
    {
     "name": "stdout",
     "output_type": "stream",
     "text": [
      "Random Forest Accuracy Score: 0.7657266811279827\n"
     ]
    }
   ],
   "source": [
    "rf_acc = accuracy_score(y, y_pred)\n",
    "print(f'Random Forest Accuracy Score: {rf_acc}')"
   ]
  },
  {
   "cell_type": "markdown",
   "id": "544b4f3e",
   "metadata": {},
   "source": [
    "**Explanation**: Like the previous models, the random forest may have a lower accuracy than ideal (with a random guess yielding 50% accuracy). However, the random forest also provides the unique advantage of allowing us to analyze feature importance across all decision trees. This comprehensive view of feature importance proves invaluable in interpreting the significance of different features for predicting startup success."
   ]
  },
  {
   "cell_type": "markdown",
   "id": "b9f3fa1e",
   "metadata": {},
   "source": [
    "#### Logistic Regression \n",
    "**We also attempted to try a new model, logistic regression, which is designed to do classification-based predictions and less prone to overfitting compared to other complex models.**"
   ]
  },
  {
   "cell_type": "code",
   "execution_count": 15,
   "id": "fd9541f8",
   "metadata": {},
   "outputs": [
    {
     "name": "stderr",
     "output_type": "stream",
     "text": [
      "/Users/kkmanas/opt/anaconda3/lib/python3.9/site-packages/sklearn/linear_model/_logistic.py:814: ConvergenceWarning: lbfgs failed to converge (status=1):\n",
      "STOP: TOTAL NO. of ITERATIONS REACHED LIMIT.\n",
      "\n",
      "Increase the number of iterations (max_iter) or scale the data as shown in:\n",
      "    https://scikit-learn.org/stable/modules/preprocessing.html\n",
      "Please also refer to the documentation for alternative solver options:\n",
      "    https://scikit-learn.org/stable/modules/linear_model.html#logistic-regression\n",
      "  n_iter_i = _check_optimize_result(\n",
      "/Users/kkmanas/opt/anaconda3/lib/python3.9/site-packages/sklearn/linear_model/_logistic.py:814: ConvergenceWarning: lbfgs failed to converge (status=1):\n",
      "STOP: TOTAL NO. of ITERATIONS REACHED LIMIT.\n",
      "\n",
      "Increase the number of iterations (max_iter) or scale the data as shown in:\n",
      "    https://scikit-learn.org/stable/modules/preprocessing.html\n",
      "Please also refer to the documentation for alternative solver options:\n",
      "    https://scikit-learn.org/stable/modules/linear_model.html#logistic-regression\n",
      "  n_iter_i = _check_optimize_result(\n",
      "/Users/kkmanas/opt/anaconda3/lib/python3.9/site-packages/sklearn/linear_model/_logistic.py:814: ConvergenceWarning: lbfgs failed to converge (status=1):\n",
      "STOP: TOTAL NO. of ITERATIONS REACHED LIMIT.\n",
      "\n",
      "Increase the number of iterations (max_iter) or scale the data as shown in:\n",
      "    https://scikit-learn.org/stable/modules/preprocessing.html\n",
      "Please also refer to the documentation for alternative solver options:\n",
      "    https://scikit-learn.org/stable/modules/linear_model.html#logistic-regression\n",
      "  n_iter_i = _check_optimize_result(\n",
      "/Users/kkmanas/opt/anaconda3/lib/python3.9/site-packages/sklearn/linear_model/_logistic.py:814: ConvergenceWarning: lbfgs failed to converge (status=1):\n",
      "STOP: TOTAL NO. of ITERATIONS REACHED LIMIT.\n",
      "\n",
      "Increase the number of iterations (max_iter) or scale the data as shown in:\n",
      "    https://scikit-learn.org/stable/modules/preprocessing.html\n",
      "Please also refer to the documentation for alternative solver options:\n",
      "    https://scikit-learn.org/stable/modules/linear_model.html#logistic-regression\n",
      "  n_iter_i = _check_optimize_result(\n"
     ]
    }
   ],
   "source": [
    "from sklearn.linear_model import LogisticRegression\n",
    "\n",
    "# create the splits for cross validation\n",
    "skfold = StratifiedKFold(n_splits=5)\n",
    "\n",
    "# use a binary feature list\n",
    "y_feat_list = ['acquired', 'closed']\n",
    "\n",
    "# build the logistic regression object\n",
    "lr = LogisticRegression()\n",
    "\n",
    "pred_lr = np.empty_like(y)\n",
    "\n",
    "# run the cross validated predictions\n",
    "for train_idx, test_idx in skfold.split(x, y):\n",
    "    # build arrays which correspond to x, y train /test\n",
    "    x_test = x[test_idx, :]\n",
    "    x_train = x[train_idx, :]\n",
    "    y_train = y[train_idx]\n",
    "    \n",
    "    lr.fit(x_train, y_train)\n",
    "    pred_lr[test_idx] = lr.predict(x_test)"
   ]
  },
  {
   "cell_type": "code",
   "execution_count": 16,
   "id": "e41d56d3",
   "metadata": {},
   "outputs": [
    {
     "name": "stdout",
     "output_type": "stream",
     "text": [
      "Logistic Regression Accuracy Score: 0.7635574837310195\n"
     ]
    }
   ],
   "source": [
    "lr_acc = accuracy_score(y, pred_lr)\n",
    "print(f'Logistic Regression Accuracy Score: {lr_acc}')"
   ]
  },
  {
   "cell_type": "markdown",
   "id": "e107e866",
   "metadata": {},
   "source": [
    "**Explanation**: Our attempt to try logistic regression yielded similar results to the prior models with an accuracy score of around 77%. This also indicates weak performance taking into account that this is a binary classification problem."
   ]
  },
  {
   "cell_type": "markdown",
   "id": "d0166852",
   "metadata": {},
   "source": [
    "### Explanation of Prediction Models\n",
    "All the prediction models yielded relatively low accuracy scores between 70% and 80%, and are thus unsuitable in accomplishing our goal considering that a random-guesser would have 50% accuracy in a binary classification problem. \n",
    "#### *Ethical Considerations of Using a Prediction Model*\n",
    "The dataset led to an unexpected finding: variables that we believed would be highly correlated with business success had little to no impact. A plot_feat_importance graph showed that Total_Funding_USD had similar importance to other variables like number of milestones, while number of relationships was three times as important. This suggests investors should not rely solely on funding amount, but also consider the business's reputation and backing. However, using these results to predict success could be unethical, particularly for novice investors. It's important to note that the dataset is limited to quantifiable data and does not capture many real-life factors that contribute to a business's success or failure, such as management style or worker dedication."
   ]
  },
  {
   "cell_type": "markdown",
   "id": "db6420ae",
   "metadata": {},
   "source": [
    "## Project Pivot"
   ]
  },
  {
   "cell_type": "markdown",
   "id": "5b4dddf3",
   "metadata": {},
   "source": [
    "### *Shifting to using ML to Explain Startup Success*\n",
    "During the implementation of our startup predictors, we discovered that certain data points, such as funding total, funding rounds, and milestones, may not always be available for startups in the process of acquiring investors. This limits the effectiveness of these features in our analysis. Additionally, our analysis revealed that investors may not necessarily base their investment decisions on the prior investments of other venture capitalists or angel investors, which detracts from our objective of providing investors with valuable insights to support their investment decisions.\n",
    "\n",
    "After careful examination of the dataset, we determined that focusing solely on prediction using potentially incomplete or niche data was not the most effective approach. Instead, we decided to shift our focus to analyzing and interpreting the most critical factors that influence a startup's success. This pivot offers substantial value for investors such as venture capitalists and angels, as well as startup founders themselves. By understanding and leveraging these critical factors, investors can make more informed investment decisions, and founders can gain insights to help guide their business strategies towards greater success. Our focus on identifying these key success factors represents an invaluable resource for stakeholders across the startup ecosystem."
   ]
  },
  {
   "cell_type": "markdown",
   "id": "1dc9c3cb",
   "metadata": {},
   "source": [
    "### Random Forest (No Cross Validation) - Feature Importance\n",
    "We chose to use the random forest algorithm for our analysis because it offers the unique advantage of allowing us to **observe the feature importance across all decision trees**. This comprehensive view of feature importance provides valuable insights into the critical factors that contribute to startup success.\n",
    "\n",
    "Additionally, we decided *not to use cross-validation* in this context because our focus is not on making predictions based on the available data. Instead, our objective is to identify and interpret the most important factors for startup success, and cross-validation is typically used for assessing the accuracy and robustness of prediction models. Since we are not using the data for making predictions, but rather for exploratory analysis, cross-validation is not necessary for our purposes."
   ]
  },
  {
   "cell_type": "markdown",
   "id": "c082d34a",
   "metadata": {},
   "source": [
    "#### Random Forest"
   ]
  },
  {
   "cell_type": "code",
   "execution_count": 17,
   "id": "28c13753",
   "metadata": {
    "scrolled": true
   },
   "outputs": [
    {
     "data": {
      "image/png": "[encoded data removed]",
      "text/plain": [
       "<Figure size 360x360 with 1 Axes>"
      ]
     },
     "metadata": {},
     "output_type": "display_data"
    }
   ],
   "source": [
    "# build random forest classifier\n",
    "max_depth = 3\n",
    "rf_clf = RandomForestClassifier(max_depth=max_depth)\n",
    "\n",
    "# fit it to the whole data\n",
    "rf_clf.fit(x, y)\n",
    "\n",
    "plot_feat_import(x_feat_list, rf_clf.feature_importances_, limit = 10)"
   ]
  },
  {
   "cell_type": "markdown",
   "id": "da7d4f48",
   "metadata": {},
   "source": [
    "## Discussion - Explanation of Startup Success (through feature importance)"
   ]
  },
  {
   "cell_type": "markdown",
   "id": "40fd6ab3",
   "metadata": {},
   "source": [
    "Our analysis using a random forest classifier reveals that the number of relationships, number of milestones, total funding, and being in the top 500 are the most influential factors for startup success. The first two are significant - evidently, networking and industry connections play a crucial role in defining startup success. Milestones can also be attributed to success implying that founders/startups that are goal-oriented may have an advantage. Although these factors may not be entirely groundbreaking (especially the top 500 feature!), the exponential decrease in feature importance after these top predictors could be surprising to some individuals in the field.\n",
    "\n",
    "*However, it is crucial to keep in mind that the results of our project should not be accepted at face value. There may be dataset bias or methodological issues that could affect the findings. It is essential to perform additional analysis and validate the results before taking any actions based on our findings.*\n",
    "\n",
    "### Takeaway\n",
    "Based on our analysis, one possible action that could be taken is to prioritize building relationships and achieving milestones in addition to obtaining funding. The top features identified by our model suggest that these factors have a significant impact on startup success. However, we must answer additional questions, such as how to accurately measure the number of relationships and milestones and how to prioritize them within the context of startup success. We do not think that these results would surprise folks in the field because (to-some-extent) startup success is attributed to current economic state as well as political/environmental factors that are difficult to all represent in a machine learning mode.\n",
    "\n",
    "### Validating Feauture Importance Through Visualization\n",
    "**We did mention that there is a stark shift in feature importance right after top 500 feature - in order to better understand this we revisited our earlier visualization and added the rounds of funding each startup got (can be seen by hovering on map below).**"
   ]
  },
  {
   "cell_type": "code",
   "execution_count": null,
   "id": "b139473e",
   "metadata": {},
   "outputs": [],
   "source": [
    "# Create dataframe for visualization\n",
    "df_viz = pd.DataFrame(data)\n",
    "\n",
    "# Create an industry column the compiles all the individual columns\n",
    "df_viz['industry'] = df_viz.loc[:, 'is_software':'is_othercategory'].apply(lambda x: ', '.join([col[3:] for col in x.index if x[col] == 1]), axis=1)\n",
    "df_viz['funding_round'] = df_viz.loc[:, 'has_roundA':'has_roundD'].apply(lambda x: ', '.join([col[3:] for col in x.index if x[col] == 1]), axis=1)"
   ]
  },
  {
   "cell_type": "code",
   "execution_count": null,
   "id": "415ac0db",
   "metadata": {},
   "outputs": [],
   "source": [
    "import plotly.graph_objects as go\n",
    "import pandas as pd\n",
    "import numpy as np\n",
    "\n",
    "# Define colorscale for status column\n",
    "colorscale = [[0, 'red'], [1, 'green']]\n",
    "\n",
    "# Define a dictionary to later map status values to colorscale index\n",
    "color_mapper = {'closed': 0, 'acquired': 1}\n",
    "\n",
    "# Map status column to colorscale index\n",
    "df_viz['marker_color'] = df_viz['status'].map(color_mapper)\n",
    "\n",
    "# Scale total funding column to best represent marker sizes in visualization\n",
    "df_viz['log_funding_total_usd'] = np.log10(df_viz['funding_total_usd'])*4\n",
    "\n",
    "# Create array with all funding values to add in the marker hover\n",
    "customdata = [[x, y] for x, y in zip(df_viz['funding_total_usd'], df_viz['funding_round'])]\n",
    "\n",
    "# Build the figure\n",
    "fig = go.Figure()\n",
    "\n",
    "# Create two invisible markers to represent 'closed' and 'acquired' in the legend\n",
    "fig.add_trace(go.Scattergeo(lat=[None], lon=[None], name='Closed',\n",
    "                             marker=dict(color='red'), showlegend=True, mode='markers'))\n",
    "fig.add_trace(go.Scattergeo(lat=[None], lon=[None], name='Acquired',\n",
    "                             marker=dict(color='green'), showlegend=True, mode='markers'))\n",
    "\n",
    "# Create the trace that shows the data on the map and builds out the hover tool\n",
    "fig.add_trace(go.Scattergeo(lon=df_viz['longitude'], lat=df_viz['latitude'], text=df_viz['name'], mode='markers',\n",
    "                            marker=dict(color=df_viz['marker_color'], colorscale=colorscale, \n",
    "                                        size=df_viz['log_funding_total_usd']),\n",
    "                            hovertemplate=\"<b>Funding Rounds:</b> %{customdata[1]}<br>\" +\n",
    "                                          \"<b>Company:</b> %{text}<br>\" +\n",
    "                                          \"<b>Total Funding:</b> $%{customdata[0]:,.2f}<extra></extra>\",\n",
    "                            showlegend=False,\n",
    "                            customdata=customdata))\n",
    "\n",
    "\n",
    "# Add a title and legend\n",
    "fig.update_layout(title='Startup Success across USA', geo_scope='usa', legend_title_text='Startup Status')\n",
    "\n",
    "fig.show()"
   ]
  },
  {
   "cell_type": "markdown",
   "id": "03d73b19",
   "metadata": {},
   "source": [
    "Visualizing the specific rounds of funding allows us validate that funding rounds are not an important feature, as shown in the random forest feature importance graph. Through hovering over various startups, there is no evident pattern in the green startups having more or less rounds of funding, challenging our existing assumptions. \n",
    "\n",
    "### Ethical Implications\n",
    "We recognize that there are ethical implications to using machine learning algorithms to predict startup success. Our project could reinforce existing power dynamics and inequalities present within the startup ecosystem, some of which are that acquiring finding is significantly more difficult for women of color and minorities. For example, the use of the top 500 as a feature may reinforce existing power structures and inequalities. Therefore, we must consider these ethical implications carefully and ensure that our findings do not exacerbate these issues.\n",
    "\n",
    "In conclusion, while our findings provide valuable insights into the factors that contribute to startup success, it is essential to consider additional factors and to validate our results before taking any action. We must also carefully consider the ethical implications of our project and take steps to mitigate any potential biases or negative consequences."
   ]
  }
 ],
 "metadata": {
  "kernelspec": {
   "display_name": "Python 3 (ipykernel)",
   "language": "python",
   "name": "python3"
  },
  "language_info": {
   "codemirror_mode": {
    "name": "ipython",
    "version": 3
   },
   "file_extension": ".py",
   "mimetype": "text/x-python",
   "name": "python",
   "nbconvert_exporter": "python",
   "pygments_lexer": "ipython3",
   "version": "3.9.12"
  }
 },
 "nbformat": 4,
 "nbformat_minor": 5
}
